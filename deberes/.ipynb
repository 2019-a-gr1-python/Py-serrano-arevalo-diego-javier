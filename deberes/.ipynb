{
 "cells": [
  {
   "cell_type": "code",
   "execution_count": 5,
   "metadata": {},
   "outputs": [],
   "source": [
    "%run equipos.ipynb\n",
    "\n",
    "#MENU PRINCIPAL\n",
    "def main(option):\n",
    "    while option != 0:\n",
    "        print(\"\\n***************************\")\n",
    "      \n",
    "        print(\"***************************\")\n",
    "        print(\"1.- Registrar equipo\")\n",
    "        print(\"2.- Mostrar equipos inscritos\")\n",
    "        print(\"3.- Buscar equipo\")\n",
    "        print(\"4.- Eliminar equipo\")\n",
    "        print(\"5.- Modificar datos equipo\")\n",
    "        print(\"0.- Salir\")\n",
    "        read = input(\"Seleccione una de las opciones: \")\n",
    "        if (read.isnumeric()):\n",
    "            option = int(read)\n",
    "        \n",
    "        try:\n",
    "            if opcion == 1:\n",
    "                Producto.registrar_equipo()\n",
    "            if opcion == 2:\n",
    "                Producto.listar_equipos()\n",
    "            if opcion == 3:\n",
    "                Producto.actualizar_equipo()\n",
    "            if opcion == 4:\n",
    "                Producto.eliminar_equipo()\n",
    "        except TypeError:\n",
    "            print(f'Option {option}')"
   ]
  }
 ],
 "metadata": {
  "kernelspec": {
   "display_name": "Python 3",
   "language": "python",
   "name": "python3"
  },
  "language_info": {
   "codemirror_mode": {
    "name": "ipython",
    "version": 3
   },
   "file_extension": ".py",
   "mimetype": "text/x-python",
   "name": "python",
   "nbconvert_exporter": "python",
   "pygments_lexer": "ipython3",
   "version": "3.7.0"
  }
 },
 "nbformat": 4,
 "nbformat_minor": 2
}
