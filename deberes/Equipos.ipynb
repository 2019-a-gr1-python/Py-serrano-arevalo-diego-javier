{
 "cells": [
  {
   "cell_type": "code",
   "execution_count": 17,
   "metadata": {},
   "outputs": [
    {
     "data": {
      "text/plain": [
       "'\"   \\n    def actualizar_producto():\\n        try:\\n            path = \\'./Equipos.txt\\'\\n            codigo_equipo = input(\\'Ingrese el nuevo codigo del equipo:\\')\\n            nombre_equipo = input(\\'Ingrese el nuevo nombre del equipo:\\')\\n            pais_equipo = input(\\'Ingrese el pais  del equipo:\\')\\n            archivo_lectura = open(path, mode=\\'r\\')\\n            lineas_archivo = archivo_lectura.readlines()\\n            equipos = []\\n            aux = 0\\n            for item in lineas_archivo:\\n                productos = item.split(\\';\\')\\n                if productos[1] == str(codigo_equipo):\\n                    lineas_archivo[aux] = f\\'{codigo_equipo};{nombre_equipo};{pais_equipo}\\'\\n                aux = aux + 1\\n            archivo_lectura.close()\\n            archivo_escritura = open(path, mode=\\'w\\')\\n            archivo_escritura.writelines(lineas_archivo)\\n            archivo_escritura.close()\\n        except ex:\\n        print(\\'Error al momento de actualizar un producto\\')\\n        print(ex)\\n    \\n    def eliminar_equipo():\\n        try:\\n            nombrePro = input(\\'Ingrese el nombre del equipo a eliminar:\\')\\n            path = \\'./equipos.txt\\'\\n            archivo_lectura = open(path, mode=\\'r\\')\\n            lineas_archivo = archivo_lectura.readlines()\\n            productos = []\\n            aux = 0\\n            for item in lineas_archivo:\\n                aux=aux+1\\n                productos = item.split(\\';\\')\\n                if equipos[0]== nombrePro:\\n                    lineas_archivo.pop(aux-1)\\n            archivo_lectura.close()\\n            archivo_escritura = open(path,mode=\\'w\\')\\n            archivo_escritura.writelines(lineas_archivo)\\n            archivo_escritura.close()\\n        except:\\n            print(\\'Error al eliminar el equipo\\')\\n            \\n'"
      ]
     },
     "execution_count": 17,
     "metadata": {},
     "output_type": "execute_result"
    }
   ],
   "source": [
    "class equipo:    \n",
    "    def listar_equipos():\n",
    "        print('Los equipos registrados son:\\n')\n",
    "        print('id \\t      Nombre \\tPais')\n",
    "        try:\n",
    "            path = './equipos.txt'\n",
    "            archivo_abierto = open(path)\n",
    "            lineas_archivo = archivo_abierto.read().split(';')\n",
    "            for linea in lineas_archivo:\n",
    "                print(linea,'\\t',end='')\n",
    "                \n",
    "            archivo_abierto.close()\n",
    "        except:\n",
    "            print('Error al visualizar los equipos')\n",
    "            \n",
    "    def registrar_equipo():\n",
    "        codigo_equipo = input('Ingrese el codigo del equipo:')\n",
    "        nombre_equipo = input('Ingrese el nombre del equipo:')\n",
    "        pais_equipo = input('Ingrese el pais del equipo:')\n",
    "       \n",
    "       \n",
    "        try:\n",
    "            path = './Equipos.txt'\n",
    "            archivo_escritura = open(path, mode='a')\n",
    "            archivo_escritura.writelines([codigo_equipo+';',nombre_equipo+';',pais_equipo])\n",
    "            archivo_escritura.close()\n",
    "        except:\n",
    "            print('Error al momento de registrar un producto')\n",
    "\"\"\"\"   \n",
    "    def actualizar_producto():\n",
    "        try:\n",
    "            path = './Equipos.txt'\n",
    "            codigo_equipo = input('Ingrese el nuevo codigo del equipo:')\n",
    "            nombre_equipo = input('Ingrese el nuevo nombre del equipo:')\n",
    "            pais_equipo = input('Ingrese el pais  del equipo:')\n",
    "            archivo_lectura = open(path, mode='r')\n",
    "            lineas_archivo = archivo_lectura.readlines()\n",
    "            equipos = []\n",
    "            aux = 0\n",
    "            for item in lineas_archivo:\n",
    "                productos = item.split(';')\n",
    "                if productos[1] == str(codigo_equipo):\n",
    "                    lineas_archivo[aux] = f'{codigo_equipo};{nombre_equipo};{pais_equipo}'\n",
    "                aux = aux + 1\n",
    "            archivo_lectura.close()\n",
    "            archivo_escritura = open(path, mode='w')\n",
    "            archivo_escritura.writelines(lineas_archivo)\n",
    "            archivo_escritura.close()\n",
    "        except ex:\n",
    "        print('Error al momento de actualizar un producto')\n",
    "        print(ex)\n",
    "    \n",
    "    def eliminar_equipo():\n",
    "        try:\n",
    "            nombrePro = input('Ingrese el nombre del equipo a eliminar:')\n",
    "            path = './equipos.txt'\n",
    "            archivo_lectura = open(path, mode='r')\n",
    "            lineas_archivo = archivo_lectura.readlines()\n",
    "            productos = []\n",
    "            aux = 0\n",
    "            for item in lineas_archivo:\n",
    "                aux=aux+1\n",
    "                productos = item.split(';')\n",
    "                if equipos[0]== nombrePro:\n",
    "                    lineas_archivo.pop(aux-1)\n",
    "            archivo_lectura.close()\n",
    "            archivo_escritura = open(path,mode='w')\n",
    "            archivo_escritura.writelines(lineas_archivo)\n",
    "            archivo_escritura.close()\n",
    "        except:\n",
    "            print('Error al eliminar el equipo')\n",
    "            \n",
    "\"\"\"\n",
    "    "
   ]
  },
  {
   "cell_type": "code",
   "execution_count": 2,
   "metadata": {},
   "outputs": [
    {
     "ename": "NameError",
     "evalue": "name 'equipo' is not defined",
     "output_type": "error",
     "traceback": [
      "\u001b[1;31m---------------------------------------------------------------------------\u001b[0m",
      "\u001b[1;31mNameError\u001b[0m                                 Traceback (most recent call last)",
      "\u001b[1;32m<ipython-input-2-d80894a57dc1>\u001b[0m in \u001b[0;36m<module>\u001b[1;34m()\u001b[0m\n\u001b[1;32m----> 1\u001b[1;33m \u001b[0mequipo\u001b[0m\u001b[1;33m(\u001b[0m\u001b[1;33m)\u001b[0m\u001b[1;33m\u001b[0m\u001b[0m\n\u001b[0m",
      "\u001b[1;31mNameError\u001b[0m: name 'equipo' is not defined"
     ]
    }
   ],
   "source": [
    "\n"
   ]
  }
 ],
 "metadata": {
  "kernelspec": {
   "display_name": "Python 3",
   "language": "python",
   "name": "python3"
  },
  "language_info": {
   "codemirror_mode": {
    "name": "ipython",
    "version": 3
   },
   "file_extension": ".py",
   "mimetype": "text/x-python",
   "name": "python",
   "nbconvert_exporter": "python",
   "pygments_lexer": "ipython3",
   "version": "3.7.0"
  }
 },
 "nbformat": 4,
 "nbformat_minor": 2
}
