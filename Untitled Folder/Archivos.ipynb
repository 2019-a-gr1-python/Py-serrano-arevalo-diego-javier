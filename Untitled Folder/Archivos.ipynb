{
 "cells": [
  {
   "cell_type": "code",
   "execution_count": 12,
   "metadata": {},
   "outputs": [
    {
     "name": "stdout",
     "output_type": "stream",
     "text": [
      "Error lectura\n"
     ]
    }
   ],
   "source": [
    "try:\n",
    "    path = './archivos.txt'\n",
    "    archivo_abierto = open(path)\n",
    "    print(archivo_abierto)\n",
    "    print(type(archivo_abierto))\n",
    "    linea_leida_uno = archivo_abierto.readLine()\n",
    "    print(linea_leida)\n",
    "    \n",
    "except:\n",
    "    print('Error lectura')"
   ]
  },
  {
   "cell_type": "code",
   "execution_count": 21,
   "metadata": {},
   "outputs": [],
   "source": [
    "try:\n",
    "    path ='./archivos.txt'\n",
    "    archivo_escritura_abierto = open(path,mode='a')\n",
    "    archivo_escritura_abierto.write('Buenas noches\\n')\n",
    "    archivo_escritura_abierto.writelines(['hola\\n','mundo\\n'])\n",
    "    archivo_escritura_abierto.close()\n",
    "except:\n",
    "    print('Error leyendo el archivo')"
   ]
  }
 ],
 "metadata": {
  "kernelspec": {
   "display_name": "Python 3",
   "language": "python",
   "name": "python3"
  },
  "language_info": {
   "codemirror_mode": {
    "name": "ipython",
    "version": 3
   },
   "file_extension": ".py",
   "mimetype": "text/x-python",
   "name": "python",
   "nbconvert_exporter": "python",
   "pygments_lexer": "ipython3",
   "version": "3.7.0"
  }
 },
 "nbformat": 4,
 "nbformat_minor": 2
}
