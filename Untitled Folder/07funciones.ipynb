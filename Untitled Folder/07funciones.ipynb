{
 "cells": [
  {
   "cell_type": "code",
   "execution_count": 3,
   "metadata": {},
   "outputs": [],
   "source": [
    "def hola_mundo():\n",
    "    print('Hola Mundo')"
   ]
  },
  {
   "cell_type": "code",
   "execution_count": 4,
   "metadata": {},
   "outputs": [
    {
     "name": "stdout",
     "output_type": "stream",
     "text": [
      "Hola Mundo\n"
     ]
    }
   ],
   "source": [
    "hola_mundo()"
   ]
  },
  {
   "cell_type": "code",
   "execution_count": 6,
   "metadata": {},
   "outputs": [
    {
     "name": "stdout",
     "output_type": "stream",
     "text": [
      "Hola Mundo\n"
     ]
    },
    {
     "data": {
      "text/plain": [
       "NoneType"
      ]
     },
     "execution_count": 6,
     "metadata": {},
     "output_type": "execute_result"
    }
   ],
   "source": [
    "type(hola_mundo())"
   ]
  },
  {
   "cell_type": "code",
   "execution_count": 8,
   "metadata": {},
   "outputs": [],
   "source": [
    "def sumar_numeros(num_uno, num_dos):\n",
    "    return num_uno + num_dos"
   ]
  },
  {
   "cell_type": "code",
   "execution_count": 10,
   "metadata": {},
   "outputs": [
    {
     "name": "stdout",
     "output_type": "stream",
     "text": [
      "3\n"
     ]
    }
   ],
   "source": [
    "print(sumar_numeros(1,2))"
   ]
  },
  {
   "cell_type": "code",
   "execution_count": 11,
   "metadata": {},
   "outputs": [],
   "source": [
    "def imprimir_universidad(nombre = 'EPN'): #parametros opcional\n",
    "    print(f\"Universidad: {nombre}\")"
   ]
  },
  {
   "cell_type": "code",
   "execution_count": 12,
   "metadata": {},
   "outputs": [
    {
     "name": "stdout",
     "output_type": "stream",
     "text": [
      "Universidad: EPN\n"
     ]
    }
   ],
   "source": [
    "imprimir_universidad()"
   ]
  },
  {
   "cell_type": "code",
   "execution_count": 13,
   "metadata": {},
   "outputs": [],
   "source": [
    "def imprimir_carro(color,placa,hp,anio):\n",
    "    print(f\"color: {color}\")\n",
    "    print(f\"Placa: {placa}\")\n",
    "    print(f\"hp: {hp}\")\n",
    "    print(f\"anio: {anio}\")\n",
    "    "
   ]
  },
  {
   "cell_type": "code",
   "execution_count": 14,
   "metadata": {},
   "outputs": [
    {
     "name": "stdout",
     "output_type": "stream",
     "text": [
      "color: Azul\n",
      "Placa: PIK-0912\n",
      "hp: 3000.0\n",
      "anio: 2015\n"
     ]
    }
   ],
   "source": [
    "imprimir_carro('Azul','PIK-0912',3000.00,2015)"
   ]
  },
  {
   "cell_type": "code",
   "execution_count": 16,
   "metadata": {},
   "outputs": [
    {
     "name": "stdout",
     "output_type": "stream",
     "text": [
      "color: negro\n",
      "Placa: PIG-1010\n",
      "hp: 2000.0\n",
      "anio: 12016\n"
     ]
    }
   ],
   "source": [
    "#named Parameters\n",
    "imprimir_carro(color ='negro', placa='PIG-1010',\n",
    "              hp=2000.00,\n",
    "              anio=12016)"
   ]
  },
  {
   "cell_type": "code",
   "execution_count": 24,
   "metadata": {},
   "outputs": [],
   "source": [
    "def suma_numeros(primer_numero, *numeros):\n",
    "    print(type(primer_numero))\n",
    "    print(type(numeros))\n",
    "    total= 0\n",
    "    for numero in numeros:\n",
    "        print(f\"Numero: {numero}\")\n",
    "        total +=numero\n",
    "    return primer_numero +total"
   ]
  },
  {
   "cell_type": "code",
   "execution_count": 26,
   "metadata": {},
   "outputs": [
    {
     "name": "stdout",
     "output_type": "stream",
     "text": [
      "<class 'int'>\n",
      "<class 'tuple'>\n",
      "Numero: 2\n",
      "Numero: 3\n",
      "Numero: 4\n",
      "Numero: 5\n",
      "Numero: 6\n"
     ]
    },
    {
     "data": {
      "text/plain": [
       "21"
      ]
     },
     "execution_count": 26,
     "metadata": {},
     "output_type": "execute_result"
    }
   ],
   "source": [
    "suma_numeros(1,2,3,4,5,6)"
   ]
  },
  {
   "cell_type": "code",
   "execution_count": 37,
   "metadata": {},
   "outputs": [],
   "source": [
    "def libreria(nombre,conexion, **key_word_arguments):\n",
    "    print(f\"Nombre: {nombre}\")\n",
    "    print(f\"conexion: {conexion}\")\n",
    "    \n",
    "    print(type(key_word_arguments))\n",
    "    for key in key_word_arguments.keys():\n",
    "        print(f\"{key.capitalize()}: {key_word_arguments[key]}\")\n",
    "        "
   ]
  },
  {
   "cell_type": "code",
   "execution_count": 38,
   "metadata": {},
   "outputs": [
    {
     "name": "stdout",
     "output_type": "stream",
     "text": [
      "Nombre: JS\n",
      "conexion: 192.168.0.1\n",
      "<class 'dict'>\n",
      "Puerto: 3000\n"
     ]
    }
   ],
   "source": [
    "libreria('JS','192.168.0.1', puerto=3000)"
   ]
  },
  {
   "cell_type": "code",
   "execution_count": 40,
   "metadata": {},
   "outputs": [],
   "source": [
    "def funcion_completa(requerido, opcional='valor', *infinitos, **kwargs):\n",
    "    print(f'Requerido: {requerido}')\n",
    "    print(f'Opcional: {opcional}')\n",
    "    for x in infinitos:\n",
    "        print(f\"Infinitos: {x}\")\n",
    "    for key in kwargs():\n",
    "        print(f\"{key.capitalize()}: {kwargs[key]}\")"
   ]
  },
  {
   "cell_type": "code",
   "execution_count": 41,
   "metadata": {},
   "outputs": [
    {
     "name": "stdout",
     "output_type": "stream",
     "text": [
      "Requerido: 1\n",
      "Opcional: opcional\n",
      "Infinitos: 1\n",
      "Infinitos: 2\n",
      "Infinitos: 3\n",
      "Infinitos: 4\n",
      "Infinitos: 5\n",
      "Infinitos: 6\n"
     ]
    },
    {
     "ename": "TypeError",
     "evalue": "'dict' object is not callable",
     "output_type": "error",
     "traceback": [
      "\u001b[1;31m---------------------------------------------------------------------------\u001b[0m",
      "\u001b[1;31mTypeError\u001b[0m                                 Traceback (most recent call last)",
      "\u001b[1;32m<ipython-input-41-26123de50248>\u001b[0m in \u001b[0;36m<module>\u001b[1;34m()\u001b[0m\n\u001b[0;32m      1\u001b[0m funcion_completa(1,'opcional',1,2,3,4,5,6,\n\u001b[0;32m      2\u001b[0m                 \u001b[0mvalor\u001b[0m\u001b[1;33m=\u001b[0m\u001b[1;34m'Valor'\u001b[0m\u001b[1;33m,\u001b[0m\u001b[1;33m\u001b[0m\u001b[0m\n\u001b[1;32m----> 3\u001b[1;33m                 llave='Llave')\n\u001b[0m",
      "\u001b[1;32m<ipython-input-40-a757551cfadb>\u001b[0m in \u001b[0;36mfuncion_completa\u001b[1;34m(requerido, opcional, *infinitos, **kwargs)\u001b[0m\n\u001b[0;32m      4\u001b[0m     \u001b[1;32mfor\u001b[0m \u001b[0mx\u001b[0m \u001b[1;32min\u001b[0m \u001b[0minfinitos\u001b[0m\u001b[1;33m:\u001b[0m\u001b[1;33m\u001b[0m\u001b[0m\n\u001b[0;32m      5\u001b[0m         \u001b[0mprint\u001b[0m\u001b[1;33m(\u001b[0m\u001b[1;34mf\"Infinitos: {x}\"\u001b[0m\u001b[1;33m)\u001b[0m\u001b[1;33m\u001b[0m\u001b[0m\n\u001b[1;32m----> 6\u001b[1;33m     \u001b[1;32mfor\u001b[0m \u001b[0mkey\u001b[0m \u001b[1;32min\u001b[0m \u001b[0mkwargs\u001b[0m\u001b[1;33m(\u001b[0m\u001b[1;33m)\u001b[0m\u001b[1;33m:\u001b[0m\u001b[1;33m\u001b[0m\u001b[0m\n\u001b[0m\u001b[0;32m      7\u001b[0m         \u001b[0mprint\u001b[0m\u001b[1;33m(\u001b[0m\u001b[1;34mf\"{key.capitalize()}: {kwargs[key]}\"\u001b[0m\u001b[1;33m)\u001b[0m\u001b[1;33m\u001b[0m\u001b[0m\n",
      "\u001b[1;31mTypeError\u001b[0m: 'dict' object is not callable"
     ]
    }
   ],
   "source": [
    "funcion_completa(1,'opcional',1,2,3,4,5,6,\n",
    "                valor='Valor',\n",
    "                llave='Llave')"
   ]
  }
 ],
 "metadata": {
  "kernelspec": {
   "display_name": "Python 3",
   "language": "python",
   "name": "python3"
  },
  "language_info": {
   "codemirror_mode": {
    "name": "ipython",
    "version": 3
   },
   "file_extension": ".py",
   "mimetype": "text/x-python",
   "name": "python",
   "nbconvert_exporter": "python",
   "pygments_lexer": "ipython3",
   "version": "3.7.0"
  }
 },
 "nbformat": 4,
 "nbformat_minor": 2
}
