{
 "cells": [
  {
   "cell_type": "code",
   "execution_count": 4,
   "metadata": {},
   "outputs": [],
   "source": [
    "def calculadora(num_uno, num_dos,operacion = 'sumar'):\n",
    "    def sumar():\n",
    "        return num_uno + num_dos\n",
    "    def restar():\n",
    "        return num_uno - num_dos\n",
    "    def multiplicar():\n",
    "        return num_uno * num_dos\n",
    "    def dividir():\n",
    "        return num_uno / num_dos\n",
    "    def switch_operacion():\n",
    "        return{\n",
    "            'sumar': sumar(),\n",
    "            'restar':restar(),\n",
    "            'multiplicar': multiplifar(),\n",
    "            'dividir': dividir()\n",
    "        }(operacion)\n",
    "    "
   ]
  },
  {
   "cell_type": "code",
   "execution_count": null,
   "metadata": {},
   "outputs": [],
   "source": [
    "input"
   ]
  }
 ],
 "metadata": {
  "kernelspec": {
   "display_name": "Python 3",
   "language": "python",
   "name": "python3"
  },
  "language_info": {
   "codemirror_mode": {
    "name": "ipython",
    "version": 3
   },
   "file_extension": ".py",
   "mimetype": "text/x-python",
   "name": "python",
   "nbconvert_exporter": "python",
   "pygments_lexer": "ipython3",
   "version": "3.7.0"
  }
 },
 "nbformat": 4,
 "nbformat_minor": 2
}
