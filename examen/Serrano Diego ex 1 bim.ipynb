{
 "cells": [
  {
   "cell_type": "code",
   "execution_count": 3,
   "metadata": {},
   "outputs": [
    {
     "data": {
      "text/plain": [
       "array([0., 0., 0., 0., 0., 0., 0., 0., 0., 0.])"
      ]
     },
     "execution_count": 3,
     "metadata": {},
     "output_type": "execute_result"
    }
   ],
   "source": [
    "###1\n",
    "import numpy as np\n",
    "a = np.zeros(10)\n",
    "a"
   ]
  },
  {
   "cell_type": "code",
   "execution_count": 9,
   "metadata": {},
   "outputs": [
    {
     "data": {
      "text/plain": [
       "array([0., 0., 0., 0., 1., 0., 0., 0., 0., 0.])"
      ]
     },
     "execution_count": 9,
     "metadata": {},
     "output_type": "execute_result"
    }
   ],
   "source": [
    "###2\n",
    "a[5]= 0\n",
    "a"
   ]
  },
  {
   "cell_type": "code",
   "execution_count": 14,
   "metadata": {},
   "outputs": [
    {
     "data": {
      "text/plain": [
       "array([49, 48, 47, 46, 45, 44, 43, 42, 41, 40, 39, 38, 37, 36, 35, 34, 33,\n",
       "       32, 31, 30, 29, 28, 27, 26, 25, 24, 23, 22, 21, 20, 19, 18, 17, 16,\n",
       "       15, 14, 13, 12, 11, 10,  9,  8,  7,  6,  5,  4,  3,  2,  1,  0])"
      ]
     },
     "execution_count": 14,
     "metadata": {},
     "output_type": "execute_result"
    }
   ],
   "source": [
    "###3\n",
    "b = np.arange(0,50)\n",
    "b\n",
    "b[::-1]\n"
   ]
  },
  {
   "cell_type": "code",
   "execution_count": 17,
   "metadata": {},
   "outputs": [
    {
     "data": {
      "text/plain": [
       "array([[0, 1, 2],\n",
       "       [3, 4, 5],\n",
       "       [6, 7, 8]])"
      ]
     },
     "execution_count": 17,
     "metadata": {},
     "output_type": "execute_result"
    }
   ],
   "source": [
    "###4\n",
    "c= np.arange(0,9)\n",
    "c.reshape(3,3)"
   ]
  },
  {
   "cell_type": "code",
   "execution_count": 22,
   "metadata": {},
   "outputs": [
    {
     "data": {
      "text/plain": [
       "array([[0],\n",
       "       [1],\n",
       "       [4]], dtype=int64)"
      ]
     },
     "execution_count": 22,
     "metadata": {},
     "output_type": "execute_result"
    }
   ],
   "source": [
    "###5 \n",
    "arreglo = np.array([1,2,0,0,4,0])\n",
    "np.argwhere( arreglo!=0 )"
   ]
  },
  {
   "cell_type": "code",
   "execution_count": 24,
   "metadata": {},
   "outputs": [
    {
     "data": {
      "text/plain": [
       "array([[1, 0, 0],\n",
       "       [0, 1, 0],\n",
       "       [0, 0, 1]])"
      ]
     },
     "execution_count": 24,
     "metadata": {},
     "output_type": "execute_result"
    }
   ],
   "source": [
    "###6\n",
    "d= np.array([1,0,0,0,1,0,0,0,1])\n",
    "d.reshape(3,3)"
   ]
  },
  {
   "cell_type": "code",
   "execution_count": 26,
   "metadata": {},
   "outputs": [
    {
     "data": {
      "text/plain": [
       "array([[[0.66612173, 0.79540673, 0.01310052],\n",
       "        [0.01823544, 0.57655353, 0.2555798 ],\n",
       "        [0.50570255, 0.08567605, 0.78258869]],\n",
       "\n",
       "       [[0.96162116, 0.01021152, 0.83939248],\n",
       "        [0.92659117, 0.7401946 , 0.67407801],\n",
       "        [0.05840727, 0.60660863, 0.30326499]],\n",
       "\n",
       "       [[0.21847347, 0.92248386, 0.43116383],\n",
       "        [0.16693013, 0.77188712, 0.0014267 ],\n",
       "        [0.65197818, 0.87436888, 0.64924531]]])"
      ]
     },
     "execution_count": 26,
     "metadata": {},
     "output_type": "execute_result"
    }
   ],
   "source": [
    "###7\n",
    "e = np.random.random((3,3,3))\n",
    "e\n"
   ]
  },
  {
   "cell_type": "code",
   "execution_count": 34,
   "metadata": {},
   "outputs": [
    {
     "name": "stdout",
     "output_type": "stream",
     "text": [
      "[[0.14368896 0.37018595 0.80771964 0.85408824 0.90188192 0.22822667\n",
      "  0.21201315 0.27475647 0.55885827 0.30049248]\n",
      " [0.7455117  0.3643458  0.02313062 0.96611396 0.62686664 0.25488116\n",
      "  0.39914753 0.63672484 0.03171171 0.9913187 ]\n",
      " [0.37359177 0.30962168 0.43186093 0.40466431 0.36036096 0.41223521\n",
      "  0.43217763 0.44052894 0.85334759 0.46895664]\n",
      " [0.61839473 0.00277318 0.99519552 0.87415489 0.48147547 0.4996624\n",
      "  0.09536083 0.51735959 0.96505053 0.33959191]\n",
      " [0.49301676 0.94782738 0.628784   0.67848929 0.8830825  0.20772066\n",
      "  0.28034024 0.73491347 0.16361405 0.26068314]\n",
      " [0.70031631 0.45236265 0.91126527 0.26521021 0.35850785 0.60722611\n",
      "  0.56186979 0.45160415 0.24443914 0.71827522]\n",
      " [0.06197618 0.42680723 0.67519212 0.74887821 0.59095931 0.98530322\n",
      "  0.08319896 0.21163272 0.15514441 0.06201976]\n",
      " [0.03420662 0.40778906 0.87749832 0.081571   0.76374111 0.79205803\n",
      "  0.21535247 0.48255413 0.10753251 0.31624168]\n",
      " [0.20785471 0.47695591 0.47365376 0.74142261 0.87028343 0.32285025\n",
      "  0.51056041 0.21607361 0.70178311 0.04524504]\n",
      " [0.58938043 0.3218685  0.01188047 0.71423206 0.1052754  0.19871797\n",
      "  0.799007   0.81177327 0.18946504 0.59632359]]\n",
      "32\n",
      "0.9661139584438789\n",
      "(3, 2)\n"
     ]
    },
    {
     "data": {
      "text/plain": [
       "0.995195519677902"
      ]
     },
     "execution_count": 34,
     "metadata": {},
     "output_type": "execute_result"
    }
   ],
   "source": [
    "###8\n",
    "f = np.random.random((10,10))\n",
    "print(f)\n",
    "print(  f.argmax() )\n",
    "print( f.ravel()[r.argmax()] )\n",
    "\n",
    "print(np.unravel_index(f.argmax(), f.shape))\n",
    "f[np.unravel_index(f.argmax(), f.shape)]\n"
   ]
  },
  {
   "cell_type": "code",
   "execution_count": null,
   "metadata": {},
   "outputs": [],
   "source": [
    "###9"
   ]
  },
  {
   "cell_type": "code",
   "execution_count": null,
   "metadata": {},
   "outputs": [],
   "source": [
    "###10"
   ]
  }
 ],
 "metadata": {
  "kernelspec": {
   "display_name": "Python 3",
   "language": "python",
   "name": "python3"
  },
  "language_info": {
   "codemirror_mode": {
    "name": "ipython",
    "version": 3
   },
   "file_extension": ".py",
   "mimetype": "text/x-python",
   "name": "python",
   "nbconvert_exporter": "python",
   "pygments_lexer": "ipython3",
   "version": "3.7.0"
  }
 },
 "nbformat": 4,
 "nbformat_minor": 2
}
