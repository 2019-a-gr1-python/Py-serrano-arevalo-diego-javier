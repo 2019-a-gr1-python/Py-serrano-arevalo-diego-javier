{
 "cells": [
  {
   "cell_type": "code",
   "execution_count": 2,
   "metadata": {},
   "outputs": [],
   "source": [
    "adrian = {\n",
    "    'nombre':'Diego'\n",
    "    \n",
    "}"
   ]
  },
  {
   "cell_type": "code",
   "execution_count": null,
   "metadata": {},
   "outputs": [],
   "source": [
    "# adrian['asd'] # Key Error\n",
    "# ++ # Syntax Error\n",
    "# asd.asd # NameError\n",
    "#\"1\"+1 # Typeerror"
   ]
  },
  {
   "cell_type": "code",
   "execution_count": 6,
   "metadata": {},
   "outputs": [
    {
     "name": "stdout",
     "output_type": "stream",
     "text": [
      "Error: 'asd'\n"
     ]
    }
   ],
   "source": [
    "try:\n",
    "    adrian['asd']\n",
    "except (NameError) as nameError:\n",
    "    print(f\"Error\" {nameError} NAME ERROR\")\n",
    "except KeyError as Keyerror:\n",
    "    print(f\"Error: {error} KEY ERROR\")\n",
    "except TypeError as typeError:\n",
    "    print(f\"Error:{typeError} TYPE o KEY ERROR\")\n",
    "except Exception as error:\n",
    "          \n",
    "   "
   ]
  }
 ],
 "metadata": {
  "kernelspec": {
   "display_name": "Python 3",
   "language": "python",
   "name": "python3"
  },
  "language_info": {
   "codemirror_mode": {
    "name": "ipython",
    "version": 3
   },
   "file_extension": ".py",
   "mimetype": "text/x-python",
   "name": "python",
   "nbconvert_exporter": "python",
   "pygments_lexer": "ipython3",
   "version": "3.7.0"
  }
 },
 "nbformat": 4,
 "nbformat_minor": 2
}
