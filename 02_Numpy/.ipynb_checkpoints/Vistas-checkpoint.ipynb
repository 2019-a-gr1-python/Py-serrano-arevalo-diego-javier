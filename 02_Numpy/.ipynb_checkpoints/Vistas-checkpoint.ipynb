{
 "cells": [
  {
   "cell_type": "code",
   "execution_count": 1,
   "metadata": {},
   "outputs": [],
   "source": [
    "import numpy as np\n"
   ]
  },
  {
   "cell_type": "code",
   "execution_count": 3,
   "metadata": {},
   "outputs": [],
   "source": [
    "frutas = np.array(['Pera', 'Manzana', 'Banano', 'Mango'])"
   ]
  },
  {
   "cell_type": "code",
   "execution_count": 4,
   "metadata": {},
   "outputs": [
    {
     "data": {
      "text/plain": [
       "array(['Pera', 'Manzana', 'Banano', 'Mango'], dtype='<U7')"
      ]
     },
     "execution_count": 4,
     "metadata": {},
     "output_type": "execute_result"
    }
   ],
   "source": [
    "frutas"
   ]
  },
  {
   "cell_type": "code",
   "execution_count": 5,
   "metadata": {},
   "outputs": [],
   "source": [
    "cesta_uno = frutas.view()\n",
    "cesta_dos = frutas.view()"
   ]
  },
  {
   "cell_type": "code",
   "execution_count": 6,
   "metadata": {},
   "outputs": [
    {
     "data": {
      "text/plain": [
       "array(['Pera', 'Manzana', 'Banano', 'Mango'], dtype='<U7')"
      ]
     },
     "execution_count": 6,
     "metadata": {},
     "output_type": "execute_result"
    }
   ],
   "source": [
    "cesta_uno"
   ]
  },
  {
   "cell_type": "code",
   "execution_count": 7,
   "metadata": {},
   "outputs": [
    {
     "data": {
      "text/plain": [
       "array(['Pera', 'Manzana', 'Banano', 'Mango'], dtype='<U7')"
      ]
     },
     "execution_count": 7,
     "metadata": {},
     "output_type": "execute_result"
    }
   ],
   "source": [
    "cesta_dos"
   ]
  },
  {
   "cell_type": "code",
   "execution_count": 8,
   "metadata": {},
   "outputs": [
    {
     "name": "stdout",
     "output_type": "stream",
     "text": [
      "2136153516432\n",
      "2136153517632\n",
      "2136153517792\n"
     ]
    }
   ],
   "source": [
    "print(id(frutas))\n",
    "print(id(cesta_uno))\n",
    "print(id(cesta_dos))"
   ]
  },
  {
   "cell_type": "code",
   "execution_count": 9,
   "metadata": {},
   "outputs": [
    {
     "name": "stdout",
     "output_type": "stream",
     "text": [
      "False\n"
     ]
    }
   ],
   "source": [
    "print(cesta_uno is frutas)"
   ]
  },
  {
   "cell_type": "code",
   "execution_count": 10,
   "metadata": {},
   "outputs": [
    {
     "name": "stdout",
     "output_type": "stream",
     "text": [
      "True\n"
     ]
    }
   ],
   "source": [
    "print(cesta_uno.base is frutas)"
   ]
  },
  {
   "cell_type": "code",
   "execution_count": 11,
   "metadata": {},
   "outputs": [],
   "source": [
    "cesta_uno[0] = 'FRUTILASSSS'"
   ]
  },
  {
   "cell_type": "code",
   "execution_count": 13,
   "metadata": {},
   "outputs": [
    {
     "name": "stdout",
     "output_type": "stream",
     "text": [
      "['FRUTILA' 'Manzana' 'Banano' 'Mango']\n",
      "['FRUTILA' 'Manzana' 'Banano' 'Mango']\n",
      "['FRUTILA' 'Manzana' 'Banano' 'Mango']\n"
     ]
    }
   ],
   "source": [
    "print(cesta_uno)\n",
    "print(cesta_dos)\n",
    "print(frutas)"
   ]
  },
  {
   "cell_type": "code",
   "execution_count": 14,
   "metadata": {},
   "outputs": [],
   "source": [
    "cesta_dos = np.array(['Coco', 'Mora','Mortino', 'Limon'])"
   ]
  },
  {
   "cell_type": "code",
   "execution_count": 15,
   "metadata": {},
   "outputs": [
    {
     "name": "stdout",
     "output_type": "stream",
     "text": [
      "['FRUTILA' 'Manzana' 'Banano' 'Mango']\n",
      "['Coco' 'Mora' 'Mortino' 'Limon']\n",
      "['FRUTILA' 'Manzana' 'Banano' 'Mango']\n"
     ]
    }
   ],
   "source": [
    "print(cesta_uno)\n",
    "print(cesta_dos)\n",
    "print(frutas)"
   ]
  },
  {
   "cell_type": "code",
   "execution_count": 16,
   "metadata": {},
   "outputs": [],
   "source": [
    "frutas = np.array(['Pera', 'Manzana','Banano', 'Mango', 'Pina', 'Melon'])\n",
    "cesta_dos = frutas.view()"
   ]
  },
  {
   "cell_type": "code",
   "execution_count": 17,
   "metadata": {},
   "outputs": [
    {
     "data": {
      "text/plain": [
       "(6,)"
      ]
     },
     "execution_count": 17,
     "metadata": {},
     "output_type": "execute_result"
    }
   ],
   "source": [
    "frutas.shape"
   ]
  },
  {
   "cell_type": "code",
   "execution_count": 19,
   "metadata": {},
   "outputs": [],
   "source": [
    "cesta_dos.shape =3,2"
   ]
  },
  {
   "cell_type": "code",
   "execution_count": 20,
   "metadata": {},
   "outputs": [
    {
     "name": "stdout",
     "output_type": "stream",
     "text": [
      "[['Pera' 'Manzana']\n",
      " ['Banano' 'Mango']\n",
      " ['Pina' 'Melon']]\n",
      "['Pera' 'Manzana' 'Banano' 'Mango' 'Pina' 'Melon']\n"
     ]
    }
   ],
   "source": [
    "print(cesta_dos)\n",
    "print(frutas)"
   ]
  }
 ],
 "metadata": {
  "kernelspec": {
   "display_name": "Python 3",
   "language": "python",
   "name": "python3"
  },
  "language_info": {
   "codemirror_mode": {
    "name": "ipython",
    "version": 3
   },
   "file_extension": ".py",
   "mimetype": "text/x-python",
   "name": "python",
   "nbconvert_exporter": "python",
   "pygments_lexer": "ipython3",
   "version": "3.7.0"
  }
 },
 "nbformat": 4,
 "nbformat_minor": 2
}
